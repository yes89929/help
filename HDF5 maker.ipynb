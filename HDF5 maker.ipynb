{
 "cells": [
  {
   "cell_type": "code",
   "execution_count": 1,
   "metadata": {},
   "outputs": [
    {
     "name": "stderr",
     "output_type": "stream",
     "text": [
      "Using TensorFlow backend.\n"
     ]
    }
   ],
   "source": [
    "import numpy as np\n",
    "import h5py\n",
    "import os\n",
    "from keras.utils import np_utils\n",
    "from random import shuffle\n",
    "import cv2\n",
    "import time"
   ]
  },
  {
   "cell_type": "code",
   "execution_count": 10,
   "metadata": {},
   "outputs": [],
   "source": [
    "import matplotlib.pyplot as plt "
   ]
  },
  {
   "cell_type": "code",
   "execution_count": 2,
   "metadata": {},
   "outputs": [],
   "source": [
    "class DataSet:\n",
    "    def __init__(self, paths, label):\n",
    "        self.paths = paths\n",
    "        self.label = label\n",
    "        \n",
    "    def GetDataSet(self):\n",
    "        return self.paths, self.label"
   ]
  },
  {
   "cell_type": "code",
   "execution_count": 3,
   "metadata": {},
   "outputs": [],
   "source": [
    "def DataLoad(path):\n",
    "    labels = os.listdir(path)\n",
    "    intLabel = {'BlindFlange':0, 'Cross':1, 'Elbow 90':2, 'Elbow non 90':3, 'Flange':4, 'Flange WN':5,\n",
    "         'Olet':6, 'OrificeFlange':7, 'Pipe':8, 'Reducer CONC':9, 'Reducer ECC':10, \n",
    "         'Reducer Insert':11, 'Safety Valve':12, 'Strainer':13, 'Tee':14, 'Tee RED':15, 'Valve':16,\n",
    "         'Wye':17}\n",
    "    allDataPath = []\n",
    "    test = []\n",
    "    for label in labels: # 라벨 폴더\n",
    "        labelPath = path + '/' + label\n",
    "        paths = []\n",
    "        augmentations = os.listdir(labelPath)\n",
    "        for augmentation in augmentations: # aug 폴더\n",
    "            augPath = labelPath + '/' + augmentation\n",
    "            fileNames = os.listdir(augPath)\n",
    "            for fileName in fileNames: # 이미지 파일 이름\n",
    "                filePath = augPath + '/' + fileName\n",
    "                paths.append(filePath)\n",
    "        dataSet = DataSet(paths, np_utils.to_categorical(intLabel[label], 18))\n",
    "        allDataPath.append(dataSet)\n",
    "    return allDataPath"
   ]
  },
  {
   "cell_type": "code",
   "execution_count": 4,
   "metadata": {},
   "outputs": [],
   "source": [
    "def DivideData(allDataPath, rate):\n",
    "    trainX = []\n",
    "    trainY = []\n",
    "    testX = []\n",
    "    testY = []\n",
    "    \n",
    "    for data in allDataPath:\n",
    "        images, label = data.GetDataSet()\n",
    "        shuffle(images)\n",
    "        divider = int(len(images)*rate)\n",
    "        trainX.extend(images[:divider])\n",
    "        trainY.extend([label]*divider)\n",
    "        testX.extend(images[divider:])\n",
    "        testY.extend([label]*(len(images)-divider))\n",
    "        \n",
    "    trainY = np.array(trainY)\n",
    "    testY = np.array(testY)\n",
    "               \n",
    "    return trainX, trainY, testX, testY"
   ]
  },
  {
   "cell_type": "code",
   "execution_count": 5,
   "metadata": {},
   "outputs": [],
   "source": [
    "def MakeHDF5(path, trainX, trainY, testX, testY):\n",
    "    startTime = time.time()\n",
    "\n",
    "    fileName = path + '/' + 'data set.hdf5'\n",
    "    with h5py.File(fileName, 'w') as f:\n",
    "        f.create_dataset('trainX', (trainY.shape[0], 227, 227, 1), dtype='float32')\n",
    "        f.create_dataset('trainY', (trainY.shape[0], trainY.shape[1]), dtype='float32')\n",
    "        f.create_dataset('testX', (testY.shape[0], 227, 227, 1), dtype='float32')\n",
    "        f.create_dataset('testY', (testY.shape[0], testY.shape[1]), dtype='float32')\n",
    "        \n",
    "        trainX_set = f['trainX'] \n",
    "        trainY_set = f['trainY']\n",
    "        testX_set = f['testX'] \n",
    "        testY_set = f['testY']\n",
    "        \n",
    "        maximum = trainY.shape[0] + testY.shape[0]\n",
    "        \n",
    "        for i in range(len(trainX)):\n",
    "            image = cv2.imread(trainX[i], cv2.IMREAD_GRAYSCALE)\n",
    "            image = image.astype('float32') / 255\n",
    "            image = np.reshape(image, [227,227,1])\n",
    "            trainX_set[i] = image\n",
    "            cur = i + 1\n",
    "            print(\"Progress {0:}/{1:}, {2:2.1%}\".format(cur, maximum, cur/maximum), end=\"\\r\")\n",
    "            \n",
    "        for i in range(len(testX)):\n",
    "            image = cv2.imread(testX[i], cv2.IMREAD_GRAYSCALE)\n",
    "            image = image.astype('float32') / 255\n",
    "            image = np.reshape(image, [227,227,1])\n",
    "            testX_set[i] = image\n",
    "            cur = trainY.shape[0] + i + 1\n",
    "            print(\"Progress {0:}/{1:}, {2:2.1%}\".format(cur, maximum, cur/maximum), end=\"\\r\")\n",
    "         \n",
    "        trainY_set = trainY\n",
    "        testY_set = testY\n",
    "        \n",
    "    e = time.time() - startTime\n",
    "    print(\"\")\n",
    "    print('hdf5 파일 생성 경과 시간: %02d:%02d:%02d'%(e // 3600, e % 3600 // 60, e % 60))"
   ]
  },
  {
   "cell_type": "code",
   "execution_count": 6,
   "metadata": {},
   "outputs": [],
   "source": [
    "path = \"C:/Users/m/data/augmentation_r2\""
   ]
  },
  {
   "cell_type": "code",
   "execution_count": 7,
   "metadata": {},
   "outputs": [],
   "source": [
    "allDataPath = DataLoad(path)"
   ]
  },
  {
   "cell_type": "code",
   "execution_count": 8,
   "metadata": {},
   "outputs": [],
   "source": [
    "trainX, trainY, testX, testY = DivideData(allDataPath, 0.7)"
   ]
  },
  {
   "cell_type": "code",
   "execution_count": 9,
   "metadata": {},
   "outputs": [
    {
     "name": "stdout",
     "output_type": "stream",
     "text": [
      "Progress 335016/335016, 100.0%\n",
      "데이터 로드 경과 시간: 00:16:04\n"
     ]
    }
   ],
   "source": [
    "MakeHDF5(path, trainX, trainY, testX, testY)"
   ]
  },
  {
   "cell_type": "code",
   "execution_count": 12,
   "metadata": {},
   "outputs": [
    {
     "data": {
      "text/plain": [
       "'C:/Users/m/data/augmentation_r2/BlindFlange/FlipA/BlindFlange_62_2.0_FlipA.png'"
      ]
     },
     "execution_count": 12,
     "metadata": {},
     "output_type": "execute_result"
    }
   ],
   "source": [
    "trainX[0]"
   ]
  }
 ],
 "metadata": {
  "kernelspec": {
   "display_name": "Python 3",
   "language": "python",
   "name": "python3"
  },
  "language_info": {
   "codemirror_mode": {
    "name": "ipython",
    "version": 3
   },
   "file_extension": ".py",
   "mimetype": "text/x-python",
   "name": "python",
   "nbconvert_exporter": "python",
   "pygments_lexer": "ipython3",
   "version": "3.6.8"
  }
 },
 "nbformat": 4,
 "nbformat_minor": 2
}
